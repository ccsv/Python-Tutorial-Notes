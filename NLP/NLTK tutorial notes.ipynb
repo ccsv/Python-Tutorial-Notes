{
 "cells": [
  {
   "cell_type": "markdown",
   "metadata": {},
   "source": [
    "<h1 align = \"center\">Intro to Natural Language Processing with NLTK</h1>\n",
    "<h3 align = \"center\">Chuck Chan</h3>"
   ]
  },
  {
   "cell_type": "code",
   "execution_count": 1,
   "metadata": {
    "collapsed": false
   },
   "outputs": [],
   "source": [
    "%matplotlib inline\n",
    "#use nltk.dowload()  to get proper libraries extentions\n",
    "import nltk\n",
    "from nltk.collocations import *\n",
    "import string\n",
    "from nltk import Text\n",
    "\n",
    "\n"
   ]
  },
  {
   "cell_type": "markdown",
   "metadata": {},
   "source": [
    " <h1 align=\"center\">Text for processing</h1>"
   ]
  },
  {
   "cell_type": "code",
   "execution_count": 2,
   "metadata": {
    "collapsed": false
   },
   "outputs": [
    {
     "name": "stdout",
     "output_type": "stream",
     "text": [
      "San Francisco is foggy.\n",
      "\tThis is a python tutorial.\n",
      "    The tutorial runs NLTK on python 3.\n",
      "    John Smith currently lives in the United States.\n"
     ]
    }
   ],
   "source": [
    "text = '''San Francisco is foggy.\n",
    "\tThis is a python tutorial.\n",
    "    The tutorial runs NLTK on python 3.\n",
    "    John Smith currently lives in the United States.'''\n",
    "print (text)"
   ]
  },
  {
   "cell_type": "markdown",
   "metadata": {},
   "source": [
    " <h1 align=\"center\">Tokenization</h1>\n",
    " * Separating out words, sentances, or paragraphs from a document. Usually by whitespaces\n"
   ]
  },
  {
   "cell_type": "code",
   "execution_count": 3,
   "metadata": {
    "collapsed": false
   },
   "outputs": [
    {
     "name": "stdout",
     "output_type": "stream",
     "text": [
      "Text tokenizer\n",
      "<Text: San Francisco is foggy . This is a...>\n",
      " \n",
      "Sentence Tokenizer:\n",
      "['San Francisco is foggy.', 'This is a python tutorial.', 'The tutorial runs NLTK on python 3.', 'John Smith currently lives in the United States.']\n",
      " \n",
      "Word Tokenizer for sentences:\n",
      "[['San', 'Francisco', 'is', 'foggy', '.'], ['This', 'is', 'a', 'python', 'tutorial', '.'], ['The', 'tutorial', 'runs', 'NLTK', 'on', 'python', '3', '.'], ['John', 'Smith', 'currently', 'lives', 'in', 'the', 'United', 'States', '.']]\n"
     ]
    }
   ],
   "source": [
    "token=nltk.word_tokenize(text)\n",
    "token = Text(token)\n",
    "print('Text tokenizer')\n",
    "print(token)\n",
    "print (\" \")\n",
    "\n",
    "sentence = nltk.sent_tokenize(text)\n",
    "print ('Sentence Tokenizer:')\n",
    "print (sentence)\n",
    "print (\" \")\n",
    "\n",
    "tsentence = [nltk.word_tokenize(sent) for sent in sentence]\n",
    "print ('Word Tokenizer for sentences:')\n",
    "print (tsentence)\n"
   ]
  },
  {
   "cell_type": "markdown",
   "metadata": {},
   "source": [
    "<h1>Functions</h1>"
   ]
  },
  {
   "cell_type": "code",
   "execution_count": 4,
   "metadata": {
    "collapsed": false
   },
   "outputs": [
    {
     "name": "stdout",
     "output_type": "stream",
     "text": [
      "<FreqDist with 22 samples and 28 outcomes>\n",
      "\n",
      "Most common words\n",
      "[('.', 4), ('python', 2), ('is', 2), ('tutorial', 2), ('on', 1), ('John', 1), ('runs', 1), ('San', 1), ('in', 1), ('3', 1)]\n",
      "\n"
     ]
    },
    {
     "data": {
      "image/png": "[encoded data removed]",
      "text/plain": [
       "<matplotlib.figure.Figure at 0x1d9dd05b400>"
      ]
     },
     "metadata": {},
     "output_type": "display_data"
    },
    {
     "name": "stdout",
     "output_type": "stream",
     "text": [
      "Text search\n",
      "Displaying 2 of 2 matches:\n",
      "                                    python tutorial . The tutorial runs NLTK o\n",
      "                                    python 3 . John Smith currently lives in t\n"
     ]
    }
   ],
   "source": [
    "freq =nltk.FreqDist(token)\n",
    "print(freq)\n",
    "print('')\n",
    "\n",
    "\n",
    "commonlist = freq.most_common(10)\n",
    "commonlist = freq.most_common(10)\n",
    "print(\"Most common words\")\n",
    "print(commonlist)\n",
    "print('')\n",
    "\n",
    "freq.plot(10)\n",
    "\n",
    "#Search text\n",
    "print(\"Text search\")\n",
    "token.concordance('python')"
   ]
  },
  {
   "cell_type": "markdown",
   "metadata": {},
   "source": [
    "<h1>Part of Speech Tagger</h1>"
   ]
  },
  {
   "cell_type": "code",
   "execution_count": 5,
   "metadata": {
    "collapsed": false
   },
   "outputs": [
    {
     "name": "stdout",
     "output_type": "stream",
     "text": [
      "tokenized\n",
      "0 ['San', 'Francisco', 'is', 'foggy', '.']\n",
      " \n",
      "1 ['This', 'is', 'a', 'python', 'tutorial', '.']\n",
      " \n",
      "2 ['The', 'tutorial', 'runs', 'NLTK', 'on', 'python', '3', '.']\n",
      " \n",
      "3 ['John', 'Smith', 'currently', 'lives', 'in', 'the', 'United', 'States', '.']\n",
      " \n",
      "POS Tagged\n",
      "0 [('San', 'NNP'), ('Francisco', 'NNP'), ('is', 'VBZ'), ('foggy', 'JJ'), ('.', '.')]\n",
      " \n",
      "1 [('This', 'DT'), ('is', 'VBZ'), ('a', 'DT'), ('python', 'JJ'), ('tutorial', 'NN'), ('.', '.')]\n",
      " \n",
      "2 [('The', 'DT'), ('tutorial', 'JJ'), ('runs', 'NNS'), ('NLTK', 'NNP'), ('on', 'IN'), ('python', 'NN'), ('3', 'CD'), ('.', '.')]\n",
      " \n",
      "3 [('John', 'NNP'), ('Smith', 'NNP'), ('currently', 'RB'), ('lives', 'VBZ'), ('in', 'IN'), ('the', 'DT'), ('United', 'NNP'), ('States', 'NNPS'), ('.', '.')]\n",
      " \n"
     ]
    }
   ],
   "source": [
    "from nltk.tag.stanford import StanfordTagger\n",
    "\n",
    "tagged = [nltk.pos_tag(sent) for sent in tsentence]\n",
    "\n",
    "print ('tokenized')\n",
    "for i, sent in enumerate(tsentence[0:]):\n",
    "    print (i, sent)\n",
    "    print(\" \")\n",
    "    \n",
    "    \n",
    "print ('POS Tagged')\n",
    "\n",
    "for i, sent in enumerate(tagged[0:]):\n",
    "    print (i, tagged[i])\n",
    "    print (\" \")\n",
    "\n"
   ]
  },
  {
   "cell_type": "markdown",
   "metadata": {},
   "source": [
    " <h1>Information Extraction</h1>"
   ]
  },
  {
   "cell_type": "code",
   "execution_count": 8,
   "metadata": {
    "collapsed": false
   },
   "outputs": [
    {
     "name": "stdout",
     "output_type": "stream",
     "text": [
      "Named Entity Recognition\n",
      "0 (S (GPE San/NNP) (PERSON Francisco/NNP) is/VBZ foggy/JJ ./.)\n",
      " \n",
      "1 (S This/DT is/VBZ a/DT python/JJ tutorial/NN ./.)\n",
      " \n",
      "2 (S\n",
      "  The/DT\n",
      "  tutorial/JJ\n",
      "  runs/NNS\n",
      "  (ORGANIZATION NLTK/NNP)\n",
      "  on/IN\n",
      "  python/NN\n",
      "  3/CD\n",
      "  ./.)\n",
      " \n",
      "3 (S\n",
      "  (PERSON John/NNP)\n",
      "  (PERSON Smith/NNP)\n",
      "  currently/RB\n",
      "  lives/VBZ\n",
      "  in/IN\n",
      "  the/DT\n",
      "  (GPE United/NNP States/NNPS)\n",
      "  ./.)\n",
      " \n"
     ]
    }
   ],
   "source": [
    "NEchunks =  list(nltk.ne_chunk_sents(tagged))\n",
    "\n",
    "print ('Named Entity Recognition')\n",
    "    \n",
    "for i, sent in enumerate(NEchunks[0:]):\n",
    "    print (i, NEchunks[i])\n",
    "    print (\" \")\n",
    "\n",
    "    \n",
    "\n"
   ]
  },
  {
   "cell_type": "markdown",
   "metadata": {},
   "source": [
    "<h1>Lemmatization</h1>"
   ]
  },
  {
   "cell_type": "code",
   "execution_count": 9,
   "metadata": {
    "collapsed": false
   },
   "outputs": [
    {
     "name": "stdout",
     "output_type": "stream",
     "text": [
      "Lemmatized Set\n",
      "['San', 'Francisco', 'is', 'foggy', '.', 'This', 'is', 'a', 'python', 'tutorial', '.', 'The', 'tutorial', 'run', 'NLTK', 'on', 'python', '3', '.', 'John', 'Smith', 'currently', 'life', 'in', 'the', 'United', 'States', '.']\n"
     ]
    }
   ],
   "source": [
    "from nltk.stem.wordnet import WordNetLemmatizer\n",
    "\n",
    "lmtzr = WordNetLemmatizer()\n",
    "lemmaset = [lmtzr.lemmatize(w) for w in token]\n",
    "\n",
    "\n",
    "print(\"Lemmatized Set\")\n",
    "print(lemmaset)"
   ]
  },
  {
   "cell_type": "markdown",
   "metadata": {
    "collapsed": false
   },
   "source": [
    " <h1>Filtering </h1>"
   ]
  },
  {
   "cell_type": "code",
   "execution_count": 10,
   "metadata": {
    "collapsed": false
   },
   "outputs": [
    {
     "name": "stdout",
     "output_type": "stream",
     "text": [
      "Removed Stop words\n",
      "['San', 'Francisco', 'foggy', 'python', 'tutorial', 'tutorial', 'run', 'NLTK', 'python', '3', 'John', 'Smith', 'currently', 'life', 'United', 'States']\n"
     ]
    }
   ],
   "source": [
    "from nltk.corpus import stopwords\n",
    "\n",
    "stopset = set(stopwords.words('english')).union(string.punctuation)\n",
    "filtered_words = [w for w in lemmaset if w.lower() not in stopset]\n",
    "\n",
    "print('Removed Stop words')\n",
    "print(filtered_words)\n"
   ]
  },
  {
   "cell_type": "code",
   "execution_count": null,
   "metadata": {
    "collapsed": true
   },
   "outputs": [],
   "source": []
  }
 ],
 "metadata": {
  "kernelspec": {
   "display_name": "Python 3",
   "language": "python",
   "name": "python3"
  },
  "language_info": {
   "codemirror_mode": {
    "name": "ipython",
    "version": 3
   },
   "file_extension": ".py",
   "mimetype": "text/x-python",
   "name": "python",
   "nbconvert_exporter": "python",
   "pygments_lexer": "ipython3",
   "version": "3.5.1"
  }
 },
 "nbformat": 4,
 "nbformat_minor": 0
}
