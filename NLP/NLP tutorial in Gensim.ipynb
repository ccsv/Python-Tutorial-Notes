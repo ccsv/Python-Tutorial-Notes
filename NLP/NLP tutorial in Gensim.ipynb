{
 "cells": [
  {
   "cell_type": "markdown",
   "metadata": {
    "collapsed": false
   },
   "source": [
    "<h1 align=\"center\">NLP Tutorial in Gensim</h1>\n",
    "<h3 align=\"center\">Chuck Chan</h3>\n"
   ]
  },
  {
   "cell_type": "code",
   "execution_count": 1,
   "metadata": {
    "collapsed": false
   },
   "outputs": [
    {
     "name": "stdout",
     "output_type": "stream",
     "text": [
      "We are running a tutorial on Natural Language Processing in Python.\n",
      "San Francisco will be foggy all week!\n",
      "Python is a high level programming language.\n",
      "Today it is cold in SF\n",
      "It is so sunny that you can fry an egg outside in Vegas.\n",
      "Las Vegas is getting very cold in the evening.\n",
      "Other programming languages that have Natural Language Processing libraries include Java and C.\n",
      "The cold weather yesterday evening gave Kevin frostbite.\n",
      "What is the weather outside? Is it rainy or sunny?\n",
      "Doesn't it cost $25 to run your code on Amazon? No\n",
      "Running NLP code is sometimes very slow and not very accurate.\n",
      "Python libraries for NLP include: Spacy, NLTK, and gensim\n",
      "Gensim is is used in this tutorial because it is easy to install\n"
     ]
    }
   ],
   "source": [
    "#We are using these sentences as examples to represent documents to save time. \n",
    "#But the results for the topic model will be biased because this is intended for large documents\n",
    "#where words are distributed differently\n",
    "docs =[\"We are running a tutorial on Natural Language Processing in Python.\",\n",
    "       \"San Francisco will be foggy all week!\", \n",
    "       \"Python is a high level programming language.\",\n",
    "       \"Today it is cold in SF\",\n",
    "       \"It is so sunny that you can fry an egg outside in Vegas.\",\n",
    "       \"Las Vegas is getting very cold in the evening.\",\n",
    "       \"Other programming languages that have Natural Language Processing libraries include Java and C.\",\n",
    "       \"The cold weather yesterday evening gave Kevin frostbite.\",\n",
    "       \"What is the weather outside? Is it rainy or sunny?\",\n",
    "       \"Doesn't it cost $25 to run your code on Amazon? No\",\n",
    "       \"Running NLP code is sometimes very slow and not very accurate.\",\n",
    "       \"Python libraries for NLP include: Spacy, NLTK, and gensim\",\n",
    "       \"Gensim is is used in this tutorial because it is easy to install\",\n",
    "    ]\n",
    "for n in docs:\n",
    "    print(n)"
   ]
  },
  {
   "cell_type": "markdown",
   "metadata": {},
   "source": [
    "<h1>Remove punctuation</h1>"
   ]
  },
  {
   "cell_type": "code",
   "execution_count": 2,
   "metadata": {
    "collapsed": false
   },
   "outputs": [
    {
     "name": "stdout",
     "output_type": "stream",
     "text": [
      "We are running a tutorial on Natural Language Processing in Python\n",
      "San Francisco will be foggy all week\n",
      "Python is a high level programming language\n",
      "Today it is cold in SF\n",
      "It is so sunny that you can fry an egg outside in Vegas\n",
      "Las Vegas is getting very cold in the evening\n",
      "Other programming languages that have Natural Language Processing libraries include Java and C\n",
      "The cold weather yesterday evening gave Kevin frostbite\n",
      "What is the weather outside Is it rainy or sunny\n",
      "Doesn't it cost $25 to run your code on Amazon No\n",
      "Running NLP code is sometimes very slow and not very accurate\n",
      "Python libraries for NLP include Spacy NLTK and gensim\n",
      "Gensim is is used in this tutorial because it is easy to install\n",
      "\n"
     ]
    }
   ],
   "source": [
    "#replace punctuation\n",
    "import re\n",
    "for i in range(len(docs)):\n",
    "    docs[i]= re.sub('(\\w+)(?:\\?|\\,|\\.|:|;|!)','\\g<1>', docs[i])\n",
    "    print(docs[i])\n",
    "\n",
    "print(\"\")"
   ]
  },
  {
   "cell_type": "markdown",
   "metadata": {},
   "source": [
    "<h1>Dealing with compound Words</h1>"
   ]
  },
  {
   "cell_type": "code",
   "execution_count": 3,
   "metadata": {
    "collapsed": false
   },
   "outputs": [
    {
     "name": "stdout",
     "output_type": "stream",
     "text": [
      "We are running a tutorial on nlp in Python\n",
      "san_francisco will be foggy all week\n",
      "Python is a high level programming language\n",
      "Today it is cold in san_francisco\n",
      "It is so sunny that you can fry an egg outside in las_vegas\n",
      "las_vegas is getting very cold in the evening\n",
      "Other programming languages that have nlp libraries include Java and C\n",
      "The cold weather yesterday evening gave Kevin frostbite\n",
      "What is the weather outside Is it rainy or sunny\n",
      "Doesn't it cost $25 to run your code on Amazon No\n",
      "Running nlp code is sometimes very slow and not very accurate\n",
      "Python libraries for nlp include Spacy NLTK and gensim\n",
      "Gensim is is used in this tutorial because it is easy to install\n"
     ]
    }
   ],
   "source": [
    "replacements ={\n",
    "    'san_francisco':['San Francisco', 'SF'],\n",
    "    'las_vegas':['Las Vegas',\"Vegas\"],\n",
    "    'nlp':['NLP', 'Natural Language Processing']\n",
    "}\n",
    "\n",
    "    \n",
    "    \n",
    "for key, value in replacements.items():\n",
    "    for i in range(len(docs)):\n",
    "        for j in range(len(value)):\n",
    "            docs[i] = docs[i].replace(value[j], key)\n",
    "            \n",
    "for d in docs:\n",
    "    print (d)\n",
    "\n"
   ]
  },
  {
   "cell_type": "markdown",
   "metadata": {},
   "source": [
    "<h1>Tokenize</h1>"
   ]
  },
  {
   "cell_type": "code",
   "execution_count": 4,
   "metadata": {
    "collapsed": false
   },
   "outputs": [
    {
     "name": "stdout",
     "output_type": "stream",
     "text": [
      "Tokenize text\n",
      "['We', 'are', 'running', 'a', 'tutorial', 'on', 'nlp', 'in', 'Python']\n",
      "['san_francisco', 'will', 'be', 'foggy', 'all', 'week']\n",
      "['Python', 'is', 'a', 'high', 'level', 'programming', 'language']\n",
      "['Today', 'it', 'is', 'cold', 'in', 'san_francisco']\n",
      "['It', 'is', 'so', 'sunny', 'that', 'you', 'can', 'fry', 'an', 'egg', 'outside', 'in', 'las_vegas']\n",
      "['las_vegas', 'is', 'getting', 'very', 'cold', 'in', 'the', 'evening']\n",
      "['Other', 'programming', 'languages', 'that', 'have', 'nlp', 'libraries', 'include', 'Java', 'and', 'C']\n",
      "['The', 'cold', 'weather', 'yesterday', 'evening', 'gave', 'Kevin', 'frostbite']\n",
      "['What', 'is', 'the', 'weather', 'outside', 'Is', 'it', 'rainy', 'or', 'sunny']\n",
      "[\"Doesn't\", 'it', 'cost', '$25', 'to', 'run', 'your', 'code', 'on', 'Amazon', 'No']\n",
      "['Running', 'nlp', 'code', 'is', 'sometimes', 'very', 'slow', 'and', 'not', 'very', 'accurate']\n",
      "['Python', 'libraries', 'for', 'nlp', 'include', 'Spacy', 'NLTK', 'and', 'gensim']\n",
      "['Gensim', 'is', 'is', 'used', 'in', 'this', 'tutorial', 'because', 'it', 'is', 'easy', 'to', 'install']\n"
     ]
    }
   ],
   "source": [
    "print(\"Tokenize text\")\n",
    "\n",
    "tokens=[[word for word in doc.split()] for doc in docs]\n",
    "for d in tokens:\n",
    "    print (d)"
   ]
  },
  {
   "cell_type": "markdown",
   "metadata": {},
   "source": [
    "<h1>Lemmatization</h1>\n",
    "For demonstration purposes to show when it is applied and function. Change libraries to library and languages to language "
   ]
  },
  {
   "cell_type": "code",
   "execution_count": 5,
   "metadata": {
    "collapsed": false
   },
   "outputs": [
    {
     "name": "stdout",
     "output_type": "stream",
     "text": [
      "Lemmatized Set\n",
      "['we', 'are', 'running', 'a', 'tutorial', 'on', 'nlp', 'in', 'python']\n",
      "['san_francisco', 'will', 'be', 'foggy', 'all', 'week']\n",
      "['python', 'is', 'a', 'high', 'level', 'programming', 'language']\n",
      "['today', 'it', 'is', 'cold', 'in', 'san_francisco']\n",
      "['it', 'is', 'so', 'sunny', 'that', 'you', 'can', 'fry', 'an', 'egg', 'outside', 'in', 'las_vegas']\n",
      "['las_vegas', 'is', 'getting', 'very', 'cold', 'in', 'the', 'evening']\n",
      "['other', 'programming', 'language', 'that', 'have', 'nlp', 'library', 'include', 'java', 'and', 'c']\n",
      "['the', 'cold', 'weather', 'yesterday', 'evening', 'gave', 'kevin', 'frostbite']\n",
      "['what', 'is', 'the', 'weather', 'outside', 'is', 'it', 'rainy', 'or', 'sunny']\n",
      "[\"doesn't\", 'it', 'cost', '$25', 'to', 'run', 'your', 'code', 'on', 'amazon', 'no']\n",
      "['running', 'nlp', 'code', 'is', 'sometimes', 'very', 'slow', 'and', 'not', 'very', 'accurate']\n",
      "['python', 'library', 'for', 'nlp', 'include', 'spacy', 'nltk', 'and', 'gensim']\n",
      "['gensim', 'is', 'is', 'used', 'in', 'this', 'tutorial', 'because', 'it', 'is', 'easy', 'to', 'install']\n"
     ]
    }
   ],
   "source": [
    "from nltk.stem.wordnet import WordNetLemmatizer\n",
    "\n",
    "lmtzr = WordNetLemmatizer()\n",
    "lemmaset = [[lmtzr.lemmatize(w.lower()) for w in sent] for sent in tokens]\n",
    "\n",
    "\n",
    "print(\"Lemmatized Set\")\n",
    "for s in lemmaset:\n",
    "    print(s)\n"
   ]
  },
  {
   "cell_type": "markdown",
   "metadata": {},
   "source": [
    "<h1>Remove Stopwords & Rare words</h1>\n",
    "Rare words removed to prevent biasing"
   ]
  },
  {
   "cell_type": "code",
   "execution_count": 10,
   "metadata": {
    "collapsed": false
   },
   "outputs": [
    {
     "name": "stdout",
     "output_type": "stream",
     "text": [
      "[['We', 'are', 'running', 'tutorial', 'on', 'nlp', 'Python'], ['san_francisco', 'will', 'be', 'foggy', 'all', 'week'], ['Python', 'high', 'level', 'programming', 'language'], ['Today', 'cold', 'san_francisco'], ['so', 'sunny', 'that', 'you', 'can', 'fry', 'an', 'egg', 'outside', 'las_vegas'], ['las_vegas', 'getting', 'very', 'cold', 'evening'], ['Other', 'programming', 'languages', 'that', 'have', 'nlp', 'libraries', 'include', 'Java', 'C'], ['cold', 'weather', 'yesterday', 'evening', 'gave', 'Kevin', 'frostbite'], ['What', 'weather', 'outside', 'rainy', 'sunny'], [\"Doesn't\", 'cost', '$25', 'run', 'your', 'code', 'on', 'Amazon', 'No'], ['Running', 'nlp', 'code', 'sometimes', 'very', 'slow', 'not', 'very', 'accurate'], ['Python', 'libraries', 'nlp', 'include', 'Spacy', 'NLTK', 'gensim'], ['Gensim', 'used', 'this', 'tutorial', 'because', 'easy', 'install']]\n"
     ]
    }
   ],
   "source": [
    "stopset = set('for is a of the and to in it did or has had'.split())\n",
    "filtered_docs = [[w for w in token if w.lower() not in stopset] for token in tokens]\n",
    "print(filtered_docs)"
   ]
  },
  {
   "cell_type": "code",
   "execution_count": 11,
   "metadata": {
    "collapsed": false
   },
   "outputs": [
    {
     "name": "stdout",
     "output_type": "stream",
     "text": [
      "Lower case\n",
      "['we', 'are', 'running', 'tutorial', 'on', 'nlp', 'python']\n",
      "['san_francisco', 'will', 'be', 'foggy', 'all', 'week']\n",
      "['python', 'high', 'level', 'programming', 'language']\n",
      "['today', 'cold', 'san_francisco']\n",
      "['so', 'sunny', 'that', 'you', 'can', 'fry', 'an', 'egg', 'outside', 'las_vegas']\n",
      "['las_vegas', 'getting', 'very', 'cold', 'evening']\n",
      "['other', 'programming', 'languages', 'that', 'have', 'nlp', 'libraries', 'include', 'java', 'c']\n",
      "['cold', 'weather', 'yesterday', 'evening', 'gave', 'kevin', 'frostbite']\n",
      "['what', 'weather', 'outside', 'rainy', 'sunny']\n",
      "[\"doesn't\", 'cost', '$25', 'run', 'your', 'code', 'on', 'amazon', 'no']\n",
      "['running', 'nlp', 'code', 'sometimes', 'very', 'slow', 'not', 'very', 'accurate']\n",
      "['python', 'libraries', 'nlp', 'include', 'spacy', 'nltk', 'gensim']\n",
      "['gensim', 'used', 'this', 'tutorial', 'because', 'easy', 'install']\n",
      "\n",
      "Unique words\n",
      "{'what', 'c', 'no', 'high', 'amazon', 'spacy', 'be', 'have', 'nltk', 'slow', 'an', 'foggy', 'cost', 'rainy', 'accurate', 'all', 'install', 'fry', 'can', 'languages', 'are', 'gave', 'so', 'sometimes', 'java', 'frostbite', 'yesterday', 'not', 'easy', 'kevin', \"doesn't\", 'language', 'level', 'used', 'week', 'egg', 'we', 'will', 'run', 'you', '$25', 'your', 'this', 'because', 'getting', 'other', 'today'}\n"
     ]
    }
   ],
   "source": [
    "#case insensitive\n",
    "idocs =[[word.lower() for word in doc] for doc in filtered_docs]\n",
    "print(\"Lower case\")\n",
    "for i in idocs:\n",
    "    print(i)\n",
    "print('')\n",
    "\n",
    "\n",
    "print('Unique words')\n",
    "alltokens =sum(idocs,[])\n",
    "uniqueset = set(word for word in set(alltokens) if alltokens.count(word) == 1)\n",
    "\n",
    "print(uniqueset)\n"
   ]
  },
  {
   "cell_type": "code",
   "execution_count": 12,
   "metadata": {
    "collapsed": false
   },
   "outputs": [
    {
     "name": "stdout",
     "output_type": "stream",
     "text": [
      "Bag of words\n",
      "['running', 'tutorial', 'on', 'nlp', 'python']\n",
      "['san_francisco']\n",
      "['python', 'programming']\n",
      "['cold', 'san_francisco']\n",
      "['sunny', 'that', 'outside', 'las_vegas']\n",
      "['las_vegas', 'very', 'cold', 'evening']\n",
      "['programming', 'that', 'nlp', 'libraries', 'include']\n",
      "['cold', 'weather', 'evening']\n",
      "['weather', 'outside', 'sunny']\n",
      "['code', 'on']\n",
      "['running', 'nlp', 'code', 'very', 'very']\n",
      "['python', 'libraries', 'nlp', 'include', 'gensim']\n",
      "['gensim', 'tutorial']\n"
     ]
    }
   ],
   "source": [
    "wbag = [[w for w in text if w not in uniqueset] for text in idocs]\n",
    "\n",
    "print('Bag of words')\n",
    "for i in wbag:\n",
    "    print(i)"
   ]
  },
  {
   "cell_type": "markdown",
   "metadata": {},
   "source": [
    "<h1>Text Dictionary</h1>\n",
    "Done to save memory by since reading strngs are more expensive "
   ]
  },
  {
   "cell_type": "code",
   "execution_count": 13,
   "metadata": {
    "collapsed": false
   },
   "outputs": [
    {
     "name": "stdout",
     "output_type": "stream",
     "text": [
      "Dictionary(19 unique tokens: ['on', 'python', 'nlp', 'code', 'that']...)\n",
      "\n",
      "{'on': 1, 'python': 4, 'nlp': 3, 'code': 17, 'that': 8, 'running': 2, 'weather': 16, 'libraries': 15, 'outside': 10, 'include': 14, 'las_vegas': 11, 'evening': 12, 'cold': 7, 'sunny': 9, 'very': 13, 'tutorial': 0, 'gensim': 18, 'programming': 6, 'san_francisco': 5}\n"
     ]
    }
   ],
   "source": [
    "from gensim import corpora\n",
    "\n",
    "dictionary = corpora.Dictionary(wbag)\n",
    "print(dictionary)\n",
    "print('')\n",
    "print(dictionary.token2id)"
   ]
  },
  {
   "cell_type": "code",
   "execution_count": 14,
   "metadata": {
    "collapsed": false
   },
   "outputs": [
    {
     "name": "stdout",
     "output_type": "stream",
     "text": [
      "[(0, 1), (1, 1), (2, 1), (3, 1), (4, 1)]\n",
      "[(5, 1)]\n",
      "[(4, 1), (6, 1)]\n",
      "[(5, 1), (7, 1)]\n",
      "[(8, 1), (9, 1), (10, 1), (11, 1)]\n",
      "[(7, 1), (11, 1), (12, 1), (13, 1)]\n",
      "[(3, 1), (6, 1), (8, 1), (14, 1), (15, 1)]\n",
      "[(7, 1), (12, 1), (16, 1)]\n",
      "[(9, 1), (10, 1), (16, 1)]\n",
      "[(1, 1), (17, 1)]\n",
      "[(2, 1), (3, 1), (13, 2), (17, 1)]\n",
      "[(3, 1), (4, 1), (14, 1), (15, 1), (18, 1)]\n",
      "[(0, 1), (18, 1)]\n"
     ]
    }
   ],
   "source": [
    "corpus = [dictionary.doc2bow(text) for text in wbag]\n",
    "\n",
    "#Display for each doc[(word, frequency)]\n",
    "for i in corpus:\n",
    "    print(i)"
   ]
  },
  {
   "cell_type": "markdown",
   "metadata": {},
   "source": [
    "<h1>Tf-IDF</h1>"
   ]
  },
  {
   "cell_type": "code",
   "execution_count": 15,
   "metadata": {
    "collapsed": false
   },
   "outputs": [
    {
     "name": "stdout",
     "output_type": "stream",
     "text": [
      "TF-IDF Model\n",
      "TfidfModel(num_docs=13, num_nnz=42)\n",
      "\n",
      "[(0, 0.4993638686130151), (1, 0.4993638686130151), (2, 0.4993638686130151), (3, 0.3144444033650505), (4, 0.3911929157895468)]\n",
      "[(5, 1.0)]\n",
      "[(4, 0.6166859611993709), (6, 0.7872092639569278)]\n",
      "[(5, 0.7872092639569278), (7, 0.6166859611993709)]\n",
      "[(8, 0.5), (9, 0.5), (10, 0.5), (11, 0.5)]\n",
      "[(7, 0.41209612453809086), (11, 0.5260471411514012), (12, 0.5260471411514012), (13, 0.5260471411514012)]\n",
      "[(3, 0.30031204378750365), (6, 0.47692050604796093), (8, 0.47692050604796093), (14, 0.47692050604796093), (15, 0.47692050604796093)]\n",
      "[(7, 0.4845593542465289), (12, 0.6185475859673962), (16, 0.6185475859673962)]\n",
      "[(9, 0.5773502691896257), (10, 0.5773502691896257), (16, 0.5773502691896257)]\n",
      "[(1, 0.7071067811865476), (17, 0.7071067811865476)]\n",
      "[(2, 0.3953925464613104), (3, 0.2489747079866609), (13, 0.7907850929226208), (17, 0.3953925464613104)]\n",
      "[(3, 0.3144444033650505), (4, 0.3911929157895468), (14, 0.4993638686130151), (15, 0.4993638686130151), (18, 0.4993638686130151)]\n",
      "[(0, 0.7071067811865476), (18, 0.7071067811865476)]\n"
     ]
    }
   ],
   "source": [
    "from gensim import models\n",
    "#initialize\n",
    "tfidf = models.TfidfModel(corpus)\n",
    "\n",
    "print(\"TF-IDF Model\")\n",
    "print(tfidf)\n",
    "print(\"\")\n",
    "\n",
    "corpus_tfidf = tfidf[corpus]\n",
    "\n",
    "for i in corpus_tfidf:\n",
    "    print(i)"
   ]
  },
  {
   "cell_type": "markdown",
   "metadata": {},
   "source": [
    "<h1>Latent Dirichlet Allocation</h1>\n",
    "LDA is an unsupervised method for topic modeling where output are probabilities for each topic.\n",
    "\n",
    "See <a href=\"https://en.wikipedia.org/wiki/Latent_Dirichlet_allocation\">LDA</a> for description\n",
    "For additional gensim lda model features see https://radimrehurek.com/gensim/models/ldamodel.html\n"
   ]
  },
  {
   "cell_type": "code",
   "execution_count": 16,
   "metadata": {
    "collapsed": false
   },
   "outputs": [
    {
     "name": "stdout",
     "output_type": "stream",
     "text": [
      "[(5, 0.071180690634488133), (18, 0.070236694847283135), (6, 0.070078244367833081), (9, 0.066817136009506353), (10, 0.06556492351032131), (4, 0.062382774238076782), (8, 0.060047174535213063), (14, 0.056073547434890368), (16, 0.053383846433893774), (15, 0.053148343921609963)]\n",
      "[(7, 0.080569433827501175), (13, 0.075313140263695996), (1, 0.070300554453170849), (17, 0.066019340083690495), (12, 0.065839871233356634), (5, 0.063055734971793245), (2, 0.056513420663318395), (3, 0.055099145098413169), (0, 0.054864765071564639), (4, 0.053159702420372608)]\n"
     ]
    }
   ],
   "source": [
    "#Define the number of topics\n",
    "tops = 2\n",
    "#setup model\n",
    "lda = models.LdaModel(corpus_tfidf, id2word = dictionary, num_topics = tops)\n",
    "\n",
    "#shows component of each topic\n",
    "topic = [lda.get_topic_terms(t) for t in range(tops)]\n",
    "for i in topic:\n",
    "    print (i)"
   ]
  },
  {
   "cell_type": "code",
   "execution_count": 17,
   "metadata": {
    "collapsed": false
   },
   "outputs": [
    {
     "data": {
      "text/plain": [
       "[(0,\n",
       "  '0.071*san_francisco + 0.070*gensim + 0.070*programming + 0.067*sunny + 0.066*outside + 0.062*python + 0.060*that + 0.056*include + 0.053*weather + 0.053*libraries'),\n",
       " (1,\n",
       "  '0.081*cold + 0.075*very + 0.070*on + 0.066*code + 0.066*evening + 0.063*san_francisco + 0.057*running + 0.055*nlp + 0.055*tutorial + 0.053*python')]"
      ]
     },
     "execution_count": 17,
     "metadata": {},
     "output_type": "execute_result"
    }
   ],
   "source": [
    "#shows component of each topic\n",
    "lda.print_topics(2)"
   ]
  },
  {
   "cell_type": "code",
   "execution_count": 18,
   "metadata": {
    "collapsed": false
   },
   "outputs": [
    {
     "name": "stdout",
     "output_type": "stream",
     "text": [
      "[(0, 0.2247946635725305), (1, 0.77520533642746947)]\n",
      "[(0, 0.59995871307913284), (1, 0.40004128692086716)]\n",
      "[(0, 0.73802606213437372), (1, 0.26197393786562628)]\n",
      "[(0, 0.31837758508477138), (1, 0.68162241491522868)]\n",
      "[(0, 0.79760053911623652), (1, 0.20239946088376351)]\n",
      "[(0, 0.2075786924779715), (1, 0.79242130752202844)]\n",
      "[(0, 0.79820294359975319), (1, 0.20179705640024681)]\n",
      "[(0, 0.2385248696936767), (1, 0.76147513030632319)]\n",
      "[(0, 0.77298637996271324), (1, 0.2270136200372869)]\n",
      "[(0, 0.23316488239982783), (1, 0.7668351176001722)]\n",
      "[(0, 0.20594018762942526), (1, 0.79405981237057477)]\n",
      "[(0, 0.78758353206146936), (1, 0.21241646793853075)]\n",
      "[(0, 0.71035821886814599), (1, 0.28964178113185413)]\n"
     ]
    }
   ],
   "source": [
    "#For each doc displays [(topic1, probability), (topic2, probability)]\n",
    "lda_corpus = lda[corpus_tfidf]\n",
    "for doc in lda_corpus:\n",
    "    print(doc) "
   ]
  }
 ],
 "metadata": {
  "kernelspec": {
   "display_name": "Python 3",
   "language": "python",
   "name": "python3"
  },
  "language_info": {
   "codemirror_mode": {
    "name": "ipython",
    "version": 3
   },
   "file_extension": ".py",
   "mimetype": "text/x-python",
   "name": "python",
   "nbconvert_exporter": "python",
   "pygments_lexer": "ipython3",
   "version": "3.5.1"
  }
 },
 "nbformat": 4,
 "nbformat_minor": 0
}
